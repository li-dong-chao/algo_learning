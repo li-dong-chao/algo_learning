{
 "metadata": {
  "language_info": {
   "codemirror_mode": {
    "name": "ipython",
    "version": 3
   },
   "file_extension": ".py",
   "mimetype": "text/x-python",
   "name": "python",
   "nbconvert_exporter": "python",
   "pygments_lexer": "ipython3",
   "version": "3.8.3"
  },
  "orig_nbformat": 2,
  "kernelspec": {
   "name": "python3",
   "display_name": "Python 3.8.3 64-bit ('base': conda)",
   "metadata": {
    "interpreter": {
     "hash": "579282893146967bc5d17141c601e8a8b8ad4a0a2a5a6fe1c87b1000077400d7"
    }
   }
  }
 },
 "nbformat": 4,
 "nbformat_minor": 2,
 "cells": [
  {
   "cell_type": "code",
   "execution_count": 63,
   "metadata": {},
   "outputs": [],
   "source": [
    "# 导入一些库\n",
    "import numpy as np\n",
    "import pandas as pd\n",
    "import matplotlib.pyplot as plt\n",
    "%matplotlib inline  # 显示图像"
   ]
  },
  {
   "cell_type": "code",
   "execution_count": 73,
   "metadata": {},
   "outputs": [],
   "source": [
    "class knn():\n",
    "    # 定义类属性\n",
    "    def __init__(self):\n",
    "        pass\n",
    "\n",
    "\n",
    "    def distance(self, x1, x2):\n",
    "        '''\n",
    "        本函数用于计算两个点之间的欧氏距离的平方。\n",
    "        主要注意的是：这里不用求出具体的欧式距离，只要求出平方即可，因为我们是用来做距离比较的，不用求出具体的距离值。\n",
    "        参数：\n",
    "            x1: 第一个点的特征取值\n",
    "            x2: 第二个点的特征取值\n",
    "        返回值：\n",
    "            返回两个点之间的距离\n",
    "        '''\n",
    "        d = np.diag(np.dot((x1 - x2), (x1 - x2).T))  # 计算欧式距离\n",
    "        return d\n",
    "\n",
    "\n",
    "    def compute_k_min_idx(self, array, k):\n",
    "        '''\n",
    "        本函数用于求出最小距离点的索引位置\n",
    "        参数：\n",
    "            array: 表示计算得到的距离向量\n",
    "            k: knn近邻参数\n",
    "        返回值:\n",
    "            返回距离最小的k个对应的索引\n",
    "        '''\n",
    "        lst = array.tolist()  # 将距离向量转化为list形式，这样方便处理\n",
    "        idx_list = []  # 创建一个列表用来保存结果\n",
    "        for i in range(k):\n",
    "            idx = lst.index(min(lst))  # 找到距离最小点的索引\n",
    "            idx_list.append(idx)  # 将距离最小点的索引添加到一个存储结果的列表中\n",
    "            lst[idx] = np.inf  # 将最小距离赋值为无穷大，这样处理可以方便计算次小点\n",
    "\n",
    "        return idx_list\n",
    "\n",
    "\n",
    "    def vote(self, array):\n",
    "        '''\n",
    "        本函数用来根据最近k个点的label进行众投处理\n",
    "        参数：\n",
    "            array: 表示最近k个点的label取值向量\n",
    "        返回值：\n",
    "            返回距离最近的k个点中，出现次数最多的一个label\n",
    "        '''\n",
    "        series = pd.Series(array)  # 转化成pd.Series形式方便进行处理\n",
    "        count = series.value_counts()  # 统计各个label取值出现的次数\n",
    "        label = count.index[0]  # 找到出现次数最多的那个label\n",
    "        return label\n",
    "    \n",
    "    def fit(self, x_train, y_train, k):\n",
    "        self.x_train = x_train\n",
    "        self.y_train = y_train\n",
    "        self.k = k\n",
    "    \n",
    "    def predict(self, x_test):\n",
    "        '''\n",
    "        本函数用来使用knn算法对数据进行分类。\n",
    "        参数\n",
    "            x_test: 测试集的特征取值\n",
    "        返回值\n",
    "            返回x_test的预测结果\n",
    "        '''\n",
    "        # 找到在x_train中距离x_test各点最近的k个点\n",
    "        y_test = []  # 创建一个list用来保存预测结果\n",
    "        for x in x_test:  # 遍历测试集中的每一个样本\n",
    "            d = self.distance(x, self.x_train)  # 计算训练集中各点到目标样本点的距离\n",
    "            idx = self.compute_k_min_idx(d, self.k)  # 找到距离目标样本点最近的k个点\n",
    "            label = self.vote(self.y_train[idx])  # 根据最近k个的label取值进行众投\n",
    "            y_test.append(label)  # 添加预测结果到存放结果的list中\n",
    "            \n",
    "        return y_test"
   ]
  },
  {
   "cell_type": "code",
   "execution_count": null,
   "metadata": {},
   "outputs": [],
   "source": [
    "# 使用鸢尾花数据集进行测试\n",
    "df = pd.read_csv('iris_data.csv', encoding='utf-8')\n",
    "# 为了可视化方便，只选择前两个维度\n",
    "df = df.iloc[:,[0,1,4]]\n",
    "# 对数据集进行划分\n",
    "train_index = list(range(0,30)) + list(range(50,80)) + list(range(100,130))\n",
    "test_index = list(range(30,50)) + list(range(80,100)) + list(range(130,150))\n",
    "tarin_data = df.iloc[train_index,:]\n",
    "test_data = df.iloc[test_index,:]"
   ]
  },
  {
   "cell_type": "code",
   "execution_count": null,
   "metadata": {},
   "outputs": [],
   "source": [
    "# 创建一个字典对字符串分类变量进行映射，方便绘图\n",
    "d = {'setosa':1, 'versicolor':2, 'virginica':3}\n",
    "df.loc[:,'target'] = df.loc[:,'target'].apply(lambda x: d[x])"
   ]
  },
  {
   "cell_type": "code",
   "execution_count": null,
   "metadata": {},
   "outputs": [],
   "source": [
    "plt.scatter(df.iloc[:,0], df.iloc[:,1], c=df['target'])"
   ]
  },
  {
   "cell_type": "code",
   "execution_count": 102,
   "metadata": {},
   "outputs": [],
   "source": [
    "x_train = tarin_data.iloc[:,0:2]\n",
    "y_train = tarin_data.iloc[:,2]\n",
    "x_test = test_data.iloc[:,0:2]\n",
    "x_test = np.array(x_test)\n",
    "x_train = np.array(x_train)\n",
    "y_train = np.array(y_train)"
   ]
  },
  {
   "cell_type": "code",
   "execution_count": 123,
   "metadata": {},
   "outputs": [],
   "source": [
    "model = knn()\n",
    "model.fit(x_train, y_train, 2)\n",
    "res = model.predict(x_test)"
   ]
  },
  {
   "cell_type": "code",
   "execution_count": 117,
   "metadata": {},
   "outputs": [],
   "source": [
    "y_test = np.array(test_data.iloc[:,2])"
   ]
  },
  {
   "cell_type": "code",
   "execution_count": 129,
   "metadata": {},
   "outputs": [],
   "source": [
    "acc = round(sum(y_test == res) / len(res)*100,2)"
   ]
  },
  {
   "cell_type": "code",
   "execution_count": 130,
   "metadata": {},
   "outputs": [
    {
     "output_type": "stream",
     "name": "stdout",
     "text": [
      "模型的分类精度为73.33%\n"
     ]
    }
   ],
   "source": [
    "print('模型的分类精度为{}%'.format(acc))"
   ]
  }
 ]
}